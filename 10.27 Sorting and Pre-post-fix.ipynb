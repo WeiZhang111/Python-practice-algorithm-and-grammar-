{
 "cells": [
  {
   "cell_type": "markdown",
   "id": "2f56c570",
   "metadata": {},
   "source": [
    "Bubble sort"
   ]
  },
  {
   "cell_type": "code",
   "execution_count": 5,
   "id": "54bbc7b3",
   "metadata": {},
   "outputs": [],
   "source": [
    "def bubble_sort(in_list):\n",
    "    # YOUR CODE HERE\n",
    "    length = len(in_list)\n",
    "    for i in range(length):\n",
    "        for j in range(0, length-i-1):\n",
    "            if in_list[j] > in_list[j+1] :\n",
    "                in_list[j], in_list[j+1] = in_list[j+1], in_list[j]\n",
    "    return in_list\n",
    "    raise NotImplementedError()\n",
    "    \n",
    "def merge_sort(in_list):\n",
    "    # YOUR CODE HERE\n",
    "    if len(in_list) <= 1:\n",
    "        return in_list\n",
    "    middle = len(in_list)//2\n",
    "    left = merge_sort(in_list[:middle])\n",
    "    right = merge_sort(in_list[middle:])\n",
    "    rtn = []\n",
    "    h = j = 0\n",
    "    \n",
    "    while ((j < len(left)) and (h < len(right))):\n",
    "        if left[j] < right[h]:\n",
    "            rtn.append(left[j])\n",
    "            j += 1\n",
    "        else:\n",
    "            rtn.append(right[h])\n",
    "            h += 1\n",
    "    if j == len(left):\n",
    "        for i in right[h:]:\n",
    "            rtn.append(i)\n",
    "    else:\n",
    "        for i in left[j:]:\n",
    "            rtn.append(i)\n",
    "    return rtn\n",
    "    raise NotImplementedError()\n",
    "\n"
   ]
  },
  {
   "cell_type": "code",
   "execution_count": 6,
   "id": "3b8cd8ea",
   "metadata": {},
   "outputs": [],
   "source": [
    "assert(bubble_sort([37, 42, 9, 19, 35, 4, 53, 22]) == [4, 9, 19, 22, 35, 37, 42, 53])\n",
    "assert(bubble_sort([5, 4, 3, 2, 1]) == [1, 2, 3, 4, 5])\n",
    "assert(bubble_sort([]) == [])\n",
    "\n",
    "assert(merge_sort([37, 42, 9, 19, 35, 4, 53, 22]) == [4, 9, 19, 22, 35, 37, 42, 53])\n",
    "assert(merge_sort([5, 4, 3, 2, 1]) == [1, 2, 3, 4, 5])\n",
    "assert(merge_sort([]) == [])"
   ]
  },
  {
   "cell_type": "markdown",
   "id": "5f4dcba9",
   "metadata": {},
   "source": [
    "Prefix to postfix"
   ]
  },
  {
   "cell_type": "code",
   "execution_count": 7,
   "id": "4b0b2d15",
   "metadata": {},
   "outputs": [],
   "source": [
    "def prefix_to_postfix(expression):\n",
    "    # YOUR CODE HERE\n",
    "    list1 = expression.split()\n",
    "    list1 = list1[::-1]\n",
    "    operators = set(['+', '-', '*', '/', '^'])\n",
    "    stack = []\n",
    "    for i in list1:\n",
    "        if i != \" \":\n",
    "            if i not in operators:\n",
    "                stack.append(i)\n",
    "            else:\n",
    "                a = stack.pop()\n",
    "                b = stack.pop()\n",
    "                temp = a+\" \"+b+\" \"+i\n",
    "                stack.append(temp)\n",
    "    return stack[0]\n"
   ]
  },
  {
   "cell_type": "code",
   "execution_count": 8,
   "id": "a45b9cab",
   "metadata": {},
   "outputs": [],
   "source": [
    "assert(prefix_to_postfix(\"5\") == \"5\")\n",
    "assert(prefix_to_postfix(\"+ 10 20\") == \"10 20 +\")\n",
    "assert(prefix_to_postfix(\"* + 1 2 - 5 3\") == \"1 2 + 5 3 - *\")"
   ]
  },
  {
   "cell_type": "code",
   "execution_count": null,
   "id": "67276fc5",
   "metadata": {},
   "outputs": [],
   "source": []
  }
 ],
 "metadata": {
  "kernelspec": {
   "display_name": "Python 3",
   "language": "python",
   "name": "python3"
  },
  "language_info": {
   "codemirror_mode": {
    "name": "ipython",
    "version": 3
   },
   "file_extension": ".py",
   "mimetype": "text/x-python",
   "name": "python",
   "nbconvert_exporter": "python",
   "pygments_lexer": "ipython3",
   "version": "3.8.7"
  }
 },
 "nbformat": 4,
 "nbformat_minor": 5
}
